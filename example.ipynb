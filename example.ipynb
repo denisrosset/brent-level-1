{
 "cells": [
  {
   "cell_type": "markdown",
   "id": "b83f0426-813e-460f-94a0-4851440a6eda",
   "metadata": {},
   "source": [
    "# This is an example use of the Brent module\n",
    "\n",
    "We find the zero of the cosine function."
   ]
  },
  {
   "cell_type": "code",
   "execution_count": 1,
   "id": "09f70ca5-c9ec-455b-99db-6d930064fda4",
   "metadata": {},
   "outputs": [
    {
     "data": {
      "text/html": [
       "<pre style=\"white-space:pre;overflow-x:auto;line-height:normal;font-family:Menlo,'DejaVu Sans Mono',consolas,'Courier New',monospace\">┏━━━━━━━━━━━━━━━━━━━━━━┳━━━━━━━━━━┓\n",
       "┃<span style=\"font-weight: bold\">            Parameter </span>┃<span style=\"font-weight: bold\"> Value    </span>┃\n",
       "┡━━━━━━━━━━━━━━━━━━━━━━╇━━━━━━━━━━┩\n",
       "│ X absolute tolerance │ 1.00e-12 │\n",
       "│ X relative tolerance │ 1.00e-12 │\n",
       "│          Y tolerance │ 0.00     │\n",
       "└──────────────────────┴──────────┘\n",
       "</pre>\n"
      ],
      "text/plain": [
       "┏━━━━━━━━━━━━━━━━━━━━━━┳━━━━━━━━━━┓\n",
       "┃\u001b[1m \u001b[0m\u001b[1m           Parameter\u001b[0m\u001b[1m \u001b[0m┃\u001b[1m \u001b[0m\u001b[1mValue   \u001b[0m\u001b[1m \u001b[0m┃\n",
       "┡━━━━━━━━━━━━━━━━━━━━━━╇━━━━━━━━━━┩\n",
       "│ X absolute tolerance │ 1.00e-12 │\n",
       "│ X relative tolerance │ 1.00e-12 │\n",
       "│          Y tolerance │ 0.00     │\n",
       "└──────────────────────┴──────────┘\n"
      ]
     },
     "metadata": {},
     "output_type": "display_data"
    },
    {
     "data": {
      "text/html": [
       "<pre style=\"white-space:pre;overflow-x:auto;line-height:normal;font-family:Menlo,'DejaVu Sans Mono',consolas,'Courier New',monospace\">┏━━━━━━┳━━━━━━━━━━━━━━┳━━━━━━━━━━┳━━━━━━━━━━┳━━━━━━━━━━━━━┳━━━━━━━━━━━┓\n",
       "┃<span style=\"font-weight: bold\"> Iter </span>┃<span style=\"font-weight: bold\">            x </span>┃<span style=\"font-weight: bold\">     f(x) </span>┃<span style=\"font-weight: bold\"> delta(x) </span>┃<span style=\"font-weight: bold\"> delta(f(x)) </span>┃<span style=\"font-weight: bold\">      step </span>┃\n",
       "┡━━━━━━╇━━━━━━━━━━━━━━╇━━━━━━━━━━╇━━━━━━━━━━╇━━━━━━━━━━━━━╇━━━━━━━━━━━┩\n",
       "│ 1    │ 3.000000e+00 │ -9.9e-01 │  3.0e+00 │     2.0e+00 │      None │\n",
       "│ 2    │ 1.500000e+00 │  7.1e-02 │  1.5e+00 │     1.1e+00 │      None │\n",
       "│ 3    │ 1.600031e+00 │ -2.9e-02 │  1.0e-01 │     1.0e-01 │ bisection │\n",
       "│ 4    │ 1.570782e+00 │  1.4e-05 │  2.9e-02 │     2.9e-02 │    secant │\n",
       "│ 5    │ 1.570796e+00 │ -2.0e-09 │  1.4e-05 │     1.4e-05 │    secant │\n",
       "│ 6    │ 1.570796e+00 │  6.1e-17 │  2.0e-09 │     2.0e-09 │    secant │\n",
       "└──────┴──────────────┴──────────┴──────────┴─────────────┴───────────┘\n",
       "</pre>\n"
      ],
      "text/plain": [
       "┏━━━━━━┳━━━━━━━━━━━━━━┳━━━━━━━━━━┳━━━━━━━━━━┳━━━━━━━━━━━━━┳━━━━━━━━━━━┓\n",
       "┃\u001b[1m \u001b[0m\u001b[1mIter\u001b[0m\u001b[1m \u001b[0m┃\u001b[1m \u001b[0m\u001b[1m           x\u001b[0m\u001b[1m \u001b[0m┃\u001b[1m \u001b[0m\u001b[1m    f(x)\u001b[0m\u001b[1m \u001b[0m┃\u001b[1m \u001b[0m\u001b[1mdelta(x)\u001b[0m\u001b[1m \u001b[0m┃\u001b[1m \u001b[0m\u001b[1mdelta(f(x))\u001b[0m\u001b[1m \u001b[0m┃\u001b[1m \u001b[0m\u001b[1m     step\u001b[0m\u001b[1m \u001b[0m┃\n",
       "┡━━━━━━╇━━━━━━━━━━━━━━╇━━━━━━━━━━╇━━━━━━━━━━╇━━━━━━━━━━━━━╇━━━━━━━━━━━┩\n",
       "│ 1    │ 3.000000e+00 │ -9.9e-01 │  3.0e+00 │     2.0e+00 │      None │\n",
       "│ 2    │ 1.500000e+00 │  7.1e-02 │  1.5e+00 │     1.1e+00 │      None │\n",
       "│ 3    │ 1.600031e+00 │ -2.9e-02 │  1.0e-01 │     1.0e-01 │ bisection │\n",
       "│ 4    │ 1.570782e+00 │  1.4e-05 │  2.9e-02 │     2.9e-02 │    secant │\n",
       "│ 5    │ 1.570796e+00 │ -2.0e-09 │  1.4e-05 │     1.4e-05 │    secant │\n",
       "│ 6    │ 1.570796e+00 │  6.1e-17 │  2.0e-09 │     2.0e-09 │    secant │\n",
       "└──────┴──────────────┴──────────┴──────────┴─────────────┴───────────┘\n"
      ]
     },
     "metadata": {},
     "output_type": "display_data"
    },
    {
     "name": "stdout",
     "output_type": "stream",
     "text": [
      "Met y_tol criterion\n"
     ]
    },
    {
     "data": {
      "text/plain": [
       "1.5707963267948966"
      ]
     },
     "execution_count": 1,
     "metadata": {},
     "output_type": "execute_result"
    }
   ],
   "source": [
    "import brent\n",
    "import math\n",
    "settings = brent.Settings(x_rel_tol=1e-12, x_abs_tol=1e-12, y_tol=1e-12, verbose=True)\n",
    "f = math.cos\n",
    "brent.brent(f, 0.0, 3.0, settings)"
   ]
  },
  {
   "cell_type": "code",
   "execution_count": null,
   "id": "067573ec-99f6-4174-9f65-8c441a840301",
   "metadata": {},
   "outputs": [],
   "source": []
  }
 ],
 "metadata": {
  "kernelspec": {
   "display_name": "Python 3 (ipykernel)",
   "language": "python",
   "name": "python3"
  },
  "language_info": {
   "codemirror_mode": {
    "name": "ipython",
    "version": 3
   },
   "file_extension": ".py",
   "mimetype": "text/x-python",
   "name": "python",
   "nbconvert_exporter": "python",
   "pygments_lexer": "ipython3",
   "version": "3.9.12"
  }
 },
 "nbformat": 4,
 "nbformat_minor": 5
}
